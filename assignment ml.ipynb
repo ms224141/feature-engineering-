{
 "cells": [
  {
   "cell_type": "code",
   "execution_count": null,
   "metadata": {},
   "outputs": [],
   "source": [
    "import numpy as np\n",
    "import pandas as pd\n",
    "from sklearn.model_selection import train_test_split\n",
    "from sklearn.preprocessing import StandardScaler, LabelEncoder, OneHotEncoder\n",
    "from sklearn.linear_model import LinearRegression\n",
    "\n",
    "\n",
    "\n",
    "# 1. What is a parameter?\n",
    "# A parameter is a configuration variable that is internal to a model and whose value can be estimated from data.\n",
    "# For example, the weights and biases in a linear regression model are parameters.\n"
   ]
  },
  {
   "cell_type": "code",
   "execution_count": null,
   "metadata": {},
   "outputs": [],
   "source": [
    "# 2. What is correlation?\n",
    "# Correlation is a statistical measure that indicates the extent to which two or more variables fluctuate together.\n",
    "# It ranges from -1 to +1."
   ]
  },
  {
   "cell_type": "code",
   "execution_count": null,
   "metadata": {},
   "outputs": [],
   "source": [
    "# 3. What does negative correlation mean?\n",
    "# Negative correlation means that as one variable increases, the other variable tends to decrease.\n",
    "# For example, the correlation between the price of a product and its demand is often negative.\n"
   ]
  },
  {
   "cell_type": "code",
   "execution_count": null,
   "metadata": {},
   "outputs": [],
   "source": [
    "\n",
    "# 4. Define Machine Learning. What are the main components in Machine Learning?\n",
    "# Machine Learning is a subset of artificial intelligence that enables machines to learn patterns from data\n",
    "# and make decisions or predictions without being explicitly programmed.\n",
    "# Main components:\n",
    "# - Dataset\n",
    "# - Features (input variables)\n",
    "# - Target variable (output variable)\n",
    "# - Algorithm/model\n",
    "# - Loss function\n",
    "# - Optimizer"
   ]
  },
  {
   "cell_type": "code",
   "execution_count": null,
   "metadata": {},
   "outputs": [],
   "source": []
  },
  {
   "cell_type": "code",
   "execution_count": null,
   "metadata": {},
   "outputs": [],
   "source": [
    "# 5. How does loss value help in determining whether the model is good or not?\n",
    "# Loss value measures the difference between the predicted output and the actual output.\n",
    "# A lower loss value indicates better model performance.\n"
   ]
  },
  {
   "cell_type": "code",
   "execution_count": null,
   "metadata": {},
   "outputs": [],
   "source": [
    "# 6. What are continuous and categorical variables?\n",
    "# Continuous variables: Variables that can take any numerical value within a range (e.g., height, weight).\n",
    "# Categorical variables: Variables that represent categories or groups (e.g., gender, color)."
   ]
  },
  {
   "cell_type": "code",
   "execution_count": null,
   "metadata": {},
   "outputs": [],
   "source": [
    "\n",
    "# 7. How do we handle categorical variables in Machine Learning? What are the common techniques?\n",
    "# Common techniques:\n",
    "# - Label Encoding\n",
    "# - One-Hot Encoding\n",
    "# - Binary Encoding\n",
    "# - Frequency Encoding"
   ]
  },
  {
   "cell_type": "code",
   "execution_count": null,
   "metadata": {},
   "outputs": [],
   "source": [
    "# 8. What do you mean by training and testing a dataset?\n",
    "# Training: Fitting a model to the dataset to learn patterns.\n",
    "# Testing: Evaluating the model's performance on unseen data."
   ]
  },
  {
   "cell_type": "code",
   "execution_count": null,
   "metadata": {},
   "outputs": [],
   "source": [
    "# 9. What is sklearn.preprocessing?\n",
    "# sklearn.preprocessing is a module in scikit-learn that provides utilities for data preprocessing such as\n",
    "# scaling, normalization, encoding, and more."
   ]
  },
  {
   "cell_type": "code",
   "execution_count": null,
   "metadata": {},
   "outputs": [],
   "source": [
    "\n",
    "# 10. What is a Test set?\n",
    "# A test set is a portion of the dataset used to evaluate the performance of a model after training."
   ]
  },
  {
   "cell_type": "code",
   "execution_count": null,
   "metadata": {},
   "outputs": [],
   "source": [
    "# 11. How do we split data for model fitting (training and testing) in Python?\n",
    "# Example:\n",
    "data = pd.DataFrame({'Feature': [1, 2, 3, 4, 5], 'Target': [10, 20, 30, 40, 50]})\n",
    "X = data[['Feature']]\n",
    "y = data['Target']\n",
    "X_train, X_test, y_train, y_test = train_test_split(X, y, test_size=0.2, random_state=42)"
   ]
  },
  {
   "cell_type": "code",
   "execution_count": null,
   "metadata": {},
   "outputs": [],
   "source": [
    "\n",
    "# 12. How do you approach a Machine Learning problem?\n",
    "# 1. Understand the problem and define the objective.\n",
    "# 2. Collect and preprocess data.\n",
    "# 3. Perform exploratory data analysis (EDA).\n",
    "# 4. Select an algorithm and train the model.\n",
    "# 5. Evaluate the model's performance.\n",
    "# 6. Tune the model.\n",
    "# 7. Deploy the model."
   ]
  },
  {
   "cell_type": "code",
   "execution_count": null,
   "metadata": {},
   "outputs": [],
   "source": [
    "\n",
    "# 13. Why do we have to perform EDA before fitting a model to the data?\n",
    "# EDA helps identify patterns, missing values, correlations, and outliers in the dataset.\n",
    "# It ensures the data is suitable for modeling."
   ]
  },
  {
   "cell_type": "code",
   "execution_count": null,
   "metadata": {},
   "outputs": [],
   "source": [
    "# 14. How can you find correlation between variables in Python?\n",
    "# Example:\n",
    "correlation_matrix = data.corr()\n",
    "print(correlation_matrix)\n"
   ]
  },
  {
   "cell_type": "code",
   "execution_count": null,
   "metadata": {},
   "outputs": [],
   "source": [
    "# 15. What is causation? Explain difference between correlation and causation with an example.\n",
    "# Causation implies that one variable directly affects another.\n",
    "# Correlation means two variables are related but not necessarily causally.\n",
    "# Example: Ice cream sales and drowning incidents are correlated but not causally related."
   ]
  },
  {
   "cell_type": "code",
   "execution_count": null,
   "metadata": {},
   "outputs": [],
   "source": [
    "\n",
    "# 16. What is an Optimizer? What are different types of optimizers? Explain each with an example.\n",
    "# An optimizer adjusts the parameters of a model to minimize the loss function.\n",
    "# Examples:\n",
    "# - Gradient Descent: Updates parameters based on the gradient of the loss function.\n",
    "# - Adam: Combines momentum and adaptive learning rates.\n"
   ]
  },
  {
   "cell_type": "code",
   "execution_count": null,
   "metadata": {},
   "outputs": [],
   "source": [
    "# 17. What is sklearn.linear_model?\n",
    "# sklearn.linear_model is a module in scikit-learn for implementing linear models like Linear Regression,\n",
    "# Logistic Regression, and more."
   ]
  },
  {
   "cell_type": "code",
   "execution_count": null,
   "metadata": {},
   "outputs": [],
   "source": [
    "\n",
    "# 18. What does model.fit() do? What arguments must be given?\n",
    "# model.fit() trains the model on the given dataset.\n",
    "# Arguments: Features (X) and Target (y)."
   ]
  },
  {
   "cell_type": "code",
   "execution_count": null,
   "metadata": {},
   "outputs": [],
   "source": [
    "\n",
    "# 19. What does model.predict() do? What arguments must be given?\n",
    "# model.predict() makes predictions on new data.\n",
    "# Arguments: Features (X)."
   ]
  },
  {
   "cell_type": "code",
   "execution_count": null,
   "metadata": {},
   "outputs": [],
   "source": [
    "\n",
    "# 20. What is feature scaling? How does it help in Machine Learning?\n",
    "# Feature scaling standardizes the range of features.\n",
    "# It helps improve model convergence and accuracy."
   ]
  },
  {
   "cell_type": "code",
   "execution_count": null,
   "metadata": {},
   "outputs": [],
   "source": [
    "# 21. How do we perform scaling in Python?\n",
    "# Example:\n",
    "scaler = StandardScaler()\n",
    "scaled_data = scaler.fit_transform(X)"
   ]
  },
  {
   "cell_type": "code",
   "execution_count": null,
   "metadata": {},
   "outputs": [],
   "source": [
    "# 22. Explain data encoding.\n",
    "# Data encoding converts categorical variables into numerical format for modeling.\n",
    "# Examples: Label Encoding, One-Hot Encoding."
   ]
  }
 ],
 "metadata": {
  "language_info": {
   "name": "python"
  }
 },
 "nbformat": 4,
 "nbformat_minor": 2
}
